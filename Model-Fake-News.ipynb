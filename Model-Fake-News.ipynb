{
 "cells": [
  {
   "cell_type": "markdown",
   "metadata": {},
   "source": [
    "# ML code to detect fake news"
   ]
  },
  {
   "cell_type": "code",
   "execution_count": null,
   "metadata": {},
   "outputs": [],
   "source": [
    "#importing the relevant libraries and modules\n",
    "import pandas as pd\n",
    "import numpy as np\n",
    "from sklearn.model_selection import train_test_split\n",
    "from sklearn.feature_extraction.text import TfidfVectorizer\n",
    "from sklearn.metrics import accuracy_score\n",
    "from sklearn.linear_model import PassiveAggressiveClassifier\n",
    "from sklearn.externals import joblib\n",
    "\n",
    "#getting the data\n",
    "\n",
    "df=pd.read_csv('news.csv')\n",
    "\n",
    "#inspecting our data\n",
    "df.shape\n",
    "\n",
    "df.head()\n",
    "\n",
    "#get label and texts; splitting the data into input and output\n",
    "labels=df['label']\n",
    "labels.head()\n",
    "\n",
    "texts=df['text']\n",
    "texts.head()\n",
    "\n",
    "# Splitting the data set into two. training dataset: to train the model and testing dataset: to test the model\n",
    "x_train,x_test,y_train,y_test = train_test_split(texts,labels, size=0.2, random_state=7)\n",
    "\n",
    "# Creating an object to do NLP of the texts\n",
    "tfidf_vectorizer=TfidfVectorizer(stop_words='english', max_df =0.7)\n",
    "\n",
    "tfidf_train = tfidf_vectorizer.fit_tranform(x_train)\n",
    "\n",
    "tfidf_test = tfidf_vectorizer.transform(x_test)\n",
    "\n",
    "#Now we fit our model and predict\n",
    "\n",
    "Model = PassiveAggresiveClassifier(max_iter=50)\n",
    "\n",
    "Model.fit(tfidf_train,y_train)\n",
    "\n",
    "#Saving the train model for future use\n",
    "joblib.dump(Model, 'fake-news.joblib')\n",
    "\n",
    "#prediction\n",
    "y_pred = Model.predict(tfidf_test)\n",
    "\n",
    "\n",
    "# calculating the accuracy of our model\n",
    "accuracy= accuracy(y_test,y_pred)\n",
    "\n",
    "print(f'accuracy score is {accuracy}')\n"
   ]
  }
 ],
 "metadata": {
  "kernelspec": {
   "display_name": "Python 3",
   "language": "python",
   "name": "python3"
  },
  "language_info": {
   "codemirror_mode": {
    "name": "ipython",
    "version": 3
   },
   "file_extension": ".py",
   "mimetype": "text/x-python",
   "name": "python",
   "nbconvert_exporter": "python",
   "pygments_lexer": "ipython3",
   "version": "3.7.4"
  }
 },
 "nbformat": 4,
 "nbformat_minor": 2
}
